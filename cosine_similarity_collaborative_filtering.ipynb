{
  "nbformat": 4,
  "nbformat_minor": 0,
  "metadata": {
    "colab": {
      "name": "Untitled15.ipynb",
      "private_outputs": true,
      "provenance": []
    },
    "kernelspec": {
      "name": "python3",
      "display_name": "Python 3"
    },
    "language_info": {
      "name": "python"
    }
  },
  "cells": [
    {
      "cell_type": "code",
      "metadata": {
        "id": "pNglmQSJCW0O"
      },
      "source": [
        "#Collaborative-Filtering and cosine_similarity"
      ],
      "execution_count": null,
      "outputs": []
    },
    {
      "cell_type": "markdown",
      "metadata": {
        "id": "p-m8nDS-CXaU"
      },
      "source": [
        "**The movie dataset that we are going to use in our recommendation engine can be downloaded from github repo**"
      ]
    },
    {
      "cell_type": "code",
      "metadata": {
        "id": "BKUGu345Br3I"
      },
      "source": [
        "!git clone https://github.com/vishalbpatil1/Movie-Lens-Collaborative-Filtering.git"
      ],
      "execution_count": null,
      "outputs": []
    },
    {
      "cell_type": "code",
      "metadata": {
        "id": "NqNeEoj5B68V"
      },
      "source": [
        "import pandas as pd\n",
        "import numpy as np\n",
        "from sklearn.feature_extraction.text import CountVectorizer\n",
        "from sklearn.metrics.pairwise import cosine_similarity\n",
        "\n",
        "df = pd.read_csv(\"/content/Movie-Lens-Collaborative-Filtering/dataset/movie_dataset.csv\")"
      ],
      "execution_count": null,
      "outputs": []
    },
    {
      "cell_type": "code",
      "metadata": {
        "id": "8zxx5nfRDoL7"
      },
      "source": [
        "df.head().T"
      ],
      "execution_count": null,
      "outputs": []
    },
    {
      "cell_type": "code",
      "metadata": {
        "id": "CXMsu6K2C5yT"
      },
      "source": [
        "# #If you visualize the dataset, you will see that it has many extra info about a movie. \n",
        "# We don’t need all of them. So, we choose keywords, cast, genres and \n",
        "# director column to use as our feature set(the so called “content” of the movie)."
      ],
      "execution_count": null,
      "outputs": []
    },
    {
      "cell_type": "code",
      "metadata": {
        "id": "Xi9Wdn6sDPcN"
      },
      "source": [
        "features= ['keywords','cast','genres','director']"
      ],
      "execution_count": null,
      "outputs": []
    },
    {
      "cell_type": "code",
      "metadata": {
        "id": "cPWAlYsXDzWU"
      },
      "source": [
        "df=df[['title']+features]"
      ],
      "execution_count": null,
      "outputs": []
    },
    {
      "cell_type": "code",
      "metadata": {
        "id": "9vvlrC9rIALA"
      },
      "source": [
        "df.fillna('',inplace=True)"
      ],
      "execution_count": null,
      "outputs": []
    },
    {
      "cell_type": "code",
      "metadata": {
        "id": "LT4vdpUjGzbD"
      },
      "source": [
        "df.head()"
      ],
      "execution_count": null,
      "outputs": []
    },
    {
      "cell_type": "code",
      "metadata": {
        "id": "_VsmxA0_DPnh"
      },
      "source": [
        "def combine_features(dataframe):\n",
        "    return dataframe['keywords']+\" \"+dataframe['cast']+\" \"+dataframe['genres']+\" \"+dataframe['director']"
      ],
      "execution_count": null,
      "outputs": []
    },
    {
      "cell_type": "code",
      "metadata": {
        "id": "lPMdQaL-Ia4L"
      },
      "source": [
        "data=pd.DataFrame()\n",
        "data['Movie_name']=df['title']\n",
        "data['combine_features']=combine_features(df)"
      ],
      "execution_count": null,
      "outputs": []
    },
    {
      "cell_type": "code",
      "metadata": {
        "id": "XVW7XgY5Ho3n"
      },
      "source": [
        "data"
      ],
      "execution_count": null,
      "outputs": []
    },
    {
      "cell_type": "code",
      "metadata": {
        "id": "8r-hE8ePH033"
      },
      "source": [
        "cv = CountVectorizer() #creating new CountVectorizer() object\n",
        "count_matrix = cv.fit_transform(data[\"combine_features\"]) #feeding combined strings(movie contents) to CountVectorizer() object"
      ],
      "execution_count": null,
      "outputs": []
    },
    {
      "cell_type": "code",
      "metadata": {
        "id": "hD08TvmtI9bm"
      },
      "source": [
        "#Now, we need to obtain the cosine similarity matrix from the count matrix.\n",
        "data_cosine_similarity= cosine_similarity(count_matrix)"
      ],
      "execution_count": null,
      "outputs": []
    },
    {
      "cell_type": "code",
      "metadata": {
        "id": "9m54BKWlJCtG"
      },
      "source": [
        "def get_title_from_index(index):\n",
        "    return data[data.index == index][\"Movie_name\"].values[0]\n"
      ],
      "execution_count": null,
      "outputs": []
    },
    {
      "cell_type": "code",
      "metadata": {
        "id": "OY3OBAxAJrbl"
      },
      "source": [
        "def get_index_from_title(Movie_name):\n",
        "    return data[data.Movie_name == Movie_name].index.values[0]"
      ],
      "execution_count": null,
      "outputs": []
    },
    {
      "cell_type": "code",
      "metadata": {
        "id": "uOb7yiVzJv6J"
      },
      "source": [
        "movie_user_likes = \"Avatar\"\n",
        "movie_index = get_index_from_title(movie_user_likes)\n",
        "print(movie_index)"
      ],
      "execution_count": null,
      "outputs": []
    },
    {
      "cell_type": "code",
      "metadata": {
        "id": "edJ01qCCLNbi"
      },
      "source": [
        "# #accessing the row corresponding to given movie to find all the similarity scores for that movie and then enumerating over it\n",
        "similar_movies = list(enumerate(data_cosine_similarity[movie_index]))\n",
        "sorted_similar_movies = sorted(similar_movies,key=lambda x:x[1],reverse=True)[1:]    #cosine_similarity "
      ],
      "execution_count": null,
      "outputs": []
    },
    {
      "cell_type": "code",
      "metadata": {
        "id": "Vhh6746HKCka"
      },
      "source": [
        "sorted_similar_movies[:10]"
      ],
      "execution_count": null,
      "outputs": []
    },
    {
      "cell_type": "code",
      "metadata": {
        "id": "xhgshzhQRTIA"
      },
      "source": [
        "i=0\n",
        "print(\"Top 5 similar movies to \"+movie_user_likes+\" are:\\n\")\n",
        "for element in sorted_similar_movies:\n",
        "    print(get_title_from_index(element[0]))\n",
        "    i=i+1\n",
        "    if i>5:\n",
        "        break"
      ],
      "execution_count": null,
      "outputs": []
    },
    {
      "cell_type": "code",
      "metadata": {
        "id": "cOGZwXXnPkhp"
      },
      "source": [
        "#similar_movie_df=pd.DataFrame(similar_movies)\n",
        "#similar_movie_df.sort_values(by=')"
      ],
      "execution_count": null,
      "outputs": []
    },
    {
      "cell_type": "code",
      "metadata": {
        "id": "fyoZBFMOMI9Y"
      },
      "source": [
        "similar_movies. # show some distance"
      ],
      "execution_count": null,
      "outputs": []
    },
    {
      "cell_type": "code",
      "metadata": {
        "id": "eKNG-i3yMqmN"
      },
      "source": [
        "movie_index=[similar_movies[i][0] for i in range(len(similar_movies))]\n",
        "movie_distance=[similar_movies[i][1] for i in range(len(similar_movies))]\n"
      ],
      "execution_count": null,
      "outputs": []
    },
    {
      "cell_type": "code",
      "metadata": {
        "id": "7HUZ6KzQOd0v"
      },
      "source": [
        ""
      ],
      "execution_count": null,
      "outputs": []
    },
    {
      "cell_type": "code",
      "metadata": {
        "id": "cIRIh01hMNSy"
      },
      "source": [
        "sorted_similar_movies = sorted(similar_movies,key=lambda x:x[1],reverse=True)[1:]"
      ],
      "execution_count": null,
      "outputs": []
    }
  ]
}